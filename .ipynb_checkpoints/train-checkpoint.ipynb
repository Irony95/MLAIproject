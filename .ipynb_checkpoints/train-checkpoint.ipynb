{
 "cells": [
  {
   "cell_type": "code",
   "execution_count": 1,
   "id": "2c8376a8",
   "metadata": {},
   "outputs": [],
   "source": [
    "import plaidml.keras\n",
    "\n",
    "plaidml.keras.install_backend()\n",
    "import plaidml.keras.backend"
   ]
  },
  {
   "cell_type": "code",
   "execution_count": 2,
   "id": "ab1d25ed",
   "metadata": {},
   "outputs": [],
   "source": [
    "import datetime\n",
    "import tensorflow as tf\n",
    "from keras import datasets, callbacks\n",
    "from keras import utils\n",
    "from keras import layers, optimizers, Sequential\n",
    "from keras.preprocessing.image import ImageDataGenerator\n",
    "from keras.layers import Conv2D,Activation,MaxPooling2D,Dropout,Flatten,Dense\n",
    "import numpy as np\n",
    "import matplotlib.pyplot as plt\n",
    "from sklearn.model_selection import train_test_split\n",
    "import ssl\n",
    "import cv2\n",
    "ssl._create_default_https_context = ssl._create_unverified_context"
   ]
  },
  {
   "cell_type": "code",
   "execution_count": 3,
   "id": "0fa335cf",
   "metadata": {},
   "outputs": [],
   "source": [
    "def centerCrop(image):\n",
    "    dimension = image.shape\n",
    "    #X < Y\n",
    "    if (dimension[0] < dimension[1]):\n",
    "        start = int((dimension[1] - dimension[0])/2)\n",
    "        return image[0 : dimension[0], start: start + dimension[0]]\n",
    "    start = int((dimension[0] - dimension[1])/2)\n",
    "    return image[start : start + dimension[1], 0 : dimension[1]]\n",
    "\n",
    "class SimpleGrapher(callbacks.Callback):    \n",
    "    def __init__(self, metrics):\n",
    "        self.names = []\n",
    "        self.data = {}\n",
    "        self.modelIndex = -1\n",
    "        for metric in metrics:\n",
    "            self.data[metric] = []\n",
    "        \n",
    "    \n",
    "    def new_model(self, name):\n",
    "        self.names.append(name)\n",
    "        for metric in self.data:\n",
    "            self.data[metric].append([])\n",
    "        self.modelIndex += 1\n",
    "    \n",
    "    def on_epoch_end(self, epoch, logs=None):\n",
    "        keys = list(logs.keys())\n",
    "        for metric in self.data:            \n",
    "            self.data[metric][self.modelIndex].append(logs[metric])\n",
    "\n",
    "    def show_graph(self, metric):\n",
    "        for i in range(self.modelIndex+1):\n",
    "            plt.plot(np.arange(1, len(self.data[metric][i])+1), self.data[metric][i], label=self.names[i])            \n",
    "        plt.legend(loc='center left', bbox_to_anchor=(1, 0.5))\n",
    "        plt.show()"
   ]
  },
  {
   "cell_type": "code",
   "execution_count": 4,
   "id": "9695937e",
   "metadata": {},
   "outputs": [],
   "source": [
    "X = np.load(\"X.npy\").astype(np.float32)\n",
    "Y = np.load(\"Y.npy\").astype(np.float32)"
   ]
  },
  {
   "cell_type": "code",
   "execution_count": 5,
   "id": "ebe4e8a1",
   "metadata": {},
   "outputs": [],
   "source": [
    "def CNN_classification_model(numOfConvLayers, numOfDenseLayers):    \n",
    "    \n",
    "    input_size = X.shape[1:]\n",
    "    num_classes = 3\n",
    "    \n",
    "    model = Sequential()\n",
    "    model.add(Conv2D(32, (3, 3), padding='same',\n",
    "    input_shape=input_size))\n",
    "    model.add(Activation('relu'))\n",
    "    \n",
    "    for i in range(numOfConvLayers):\n",
    "        model.add(Conv2D(64, (3, 3), padding='same'))\n",
    "        model.add(Activation('relu'))\n",
    "        model.add(MaxPooling2D(pool_size=(2, 2)))\n",
    "\n",
    "    \n",
    "    model.add(Flatten())\n",
    "    \n",
    "    for i in range(numOfDenseLayers):\n",
    "        model.add(Dense(128))\n",
    "        model.add(Activation('relu'))\n",
    "        model.add(Dropout(0.25))\n",
    "        \n",
    "    model.add(Dense(units=num_classes))\n",
    "    model.add(Activation('softmax'))    \n",
    "    \n",
    "    opt = optimizers.Adam()\n",
    "    model.compile(loss='categorical_crossentropy', optimizer=opt, metrics=['accuracy'])\n",
    "    return model"
   ]
  },
  {
   "cell_type": "code",
   "execution_count": 6,
   "id": "f60ad655",
   "metadata": {
    "scrolled": false
   },
   "outputs": [],
   "source": [
    "imgGen = ImageDataGenerator(\n",
    "    rotation_range = 20,\n",
    "    width_shift_range=0.2,\n",
    "    height_shift_range=0.2,\n",
    "    horizontal_flip=True,\n",
    "    zoom_range = [0.8, 1.2], \n",
    "    validation_split=0.10\n",
    ")\n",
    "\n",
    "# showX, showY = training.next()\n",
    "# index = 3\n",
    "# print(showX[index])\n",
    "# plt.imshow(showX[index])\n",
    "# plt.show()"
   ]
  },
  {
   "cell_type": "code",
   "execution_count": 10,
   "id": "7dbcf24f",
   "metadata": {
    "scrolled": false
   },
   "outputs": [
    {
     "name": "stdout",
     "output_type": "stream",
     "text": [
      "-----NOW TRAINING-----\n",
      "conv-2-dense-2-NN\n",
      "Epoch 1/20\n",
      "146/146 [==============================] - 65s 445ms/step - loss: 0.8142 - acc: 0.6244 - val_loss: 0.6625 - val_acc: 0.6696\n",
      "Epoch 2/20\n",
      "146/146 [==============================] - 29s 196ms/step - loss: 0.5970 - acc: 0.7491 - val_loss: 0.4968 - val_acc: 0.7917\n",
      "Epoch 3/20\n",
      "146/146 [==============================] - 29s 196ms/step - loss: 0.4946 - acc: 0.7992 - val_loss: 0.4248 - val_acc: 0.8266\n",
      "Epoch 4/20\n",
      "146/146 [==============================] - 29s 196ms/step - loss: 0.4537 - acc: 0.8164 - val_loss: 0.4702 - val_acc: 0.8052\n",
      "Epoch 5/20\n",
      "146/146 [==============================] - 29s 196ms/step - loss: 0.4311 - acc: 0.8328 - val_loss: 0.3623 - val_acc: 0.8672\n",
      "Epoch 6/20\n",
      "146/146 [==============================] - 29s 195ms/step - loss: 0.3661 - acc: 0.8593 - val_loss: 0.3430 - val_acc: 0.8653\n",
      "Epoch 7/20\n",
      "146/146 [==============================] - 29s 195ms/step - loss: 0.3974 - acc: 0.8406 - val_loss: 0.3241 - val_acc: 0.8566\n",
      "Epoch 8/20\n",
      "146/146 [==============================] - 29s 196ms/step - loss: 0.3533 - acc: 0.8605 - val_loss: 0.3239 - val_acc: 0.8653\n",
      "Epoch 9/20\n",
      "146/146 [==============================] - 29s 197ms/step - loss: 0.3315 - acc: 0.8725 - val_loss: 0.3183 - val_acc: 0.8769\n",
      "Epoch 10/20\n",
      "146/146 [==============================] - 29s 196ms/step - loss: 0.3157 - acc: 0.8775 - val_loss: 0.2864 - val_acc: 0.8847\n",
      "Epoch 11/20\n",
      "146/146 [==============================] - 29s 196ms/step - loss: 0.3292 - acc: 0.8758 - val_loss: 0.3097 - val_acc: 0.8837\n",
      "Epoch 12/20\n",
      "146/146 [==============================] - 28s 195ms/step - loss: 0.3068 - acc: 0.8804 - val_loss: 0.2699 - val_acc: 0.8866\n",
      "Epoch 13/20\n",
      "146/146 [==============================] - 29s 195ms/step - loss: 0.2919 - acc: 0.8917 - val_loss: 0.2498 - val_acc: 0.9012\n",
      "Epoch 14/20\n",
      "146/146 [==============================] - 29s 196ms/step - loss: 0.2888 - acc: 0.8918 - val_loss: 0.2498 - val_acc: 0.9070\n",
      "Epoch 15/20\n",
      "146/146 [==============================] - 29s 196ms/step - loss: 0.2784 - acc: 0.8933 - val_loss: 0.2138 - val_acc: 0.9234\n",
      "Epoch 16/20\n",
      "146/146 [==============================] - 28s 195ms/step - loss: 0.2566 - acc: 0.9039 - val_loss: 0.2734 - val_acc: 0.9060\n",
      "Epoch 17/20\n",
      "146/146 [==============================] - 29s 197ms/step - loss: 0.2618 - acc: 0.9027 - val_loss: 0.2440 - val_acc: 0.9138\n",
      "Epoch 18/20\n",
      "146/146 [==============================] - 28s 195ms/step - loss: 0.2588 - acc: 0.9069 - val_loss: 0.2186 - val_acc: 0.9215\n",
      "Epoch 19/20\n",
      "146/146 [==============================] - 29s 196ms/step - loss: 0.2464 - acc: 0.9110 - val_loss: 0.2375 - val_acc: 0.9118\n",
      "Epoch 20/20\n",
      "146/146 [==============================] - 29s 196ms/step - loss: 0.2352 - acc: 0.9154 - val_loss: 0.2608 - val_acc: 0.9070\n"
     ]
    }
   ],
   "source": [
    "callbacker = SimpleGrapher([\"loss\", \"acc\", \"val_loss\", \"val_acc\"])\n",
    "\n",
    "\n",
    "convLayers = [2]\n",
    "denseLayers = [2]\n",
    "for conv in convLayers:\n",
    "    for dense in denseLayers:  \n",
    "        global model\n",
    "        callbacker.new_model(f\"{conv}-{dense}\")\n",
    "        print(\"-----NOW TRAINING-----\")\n",
    "        print(f\"conv-{conv}-dense-{dense}-NN\")\n",
    "        model = CNN_classification_model(conv, dense)\n",
    "        #model.summary()\n",
    "        \n",
    "        if (imgGen != None):\n",
    "            imgGen.fit(X)\n",
    "            training = imgGen.flow(X, Y, batch_size=64, subset='training')\n",
    "            model.fit_generator(training, validation_data=imgGen.flow(X, Y, batch_size=64, subset='validation'),\n",
    "                                 epochs=20, callbacks=[callbacker])\n",
    "        else:\n",
    "            model.fit(X,Y, batch_size=32, epochs=5, verbose=1, validation_split=0.10, callbacks=[callbacker])"
   ]
  },
  {
   "cell_type": "code",
   "execution_count": 28,
   "id": "3dfa6c7e",
   "metadata": {
    "scrolled": false
   },
   "outputs": [
    {
     "data": {
      "image/png": "[encoded data removed]",
      "text/plain": [
       "<Figure size 640x480 with 1 Axes>"
      ]
     },
     "metadata": {},
     "output_type": "display_data"
    },
    {
     "data": {
      "text/plain": [
       "'other'"
      ]
     },
     "execution_count": 28,
     "metadata": {},
     "output_type": "execute_result"
    }
   ],
   "source": [
    "imgSize = 128\n",
    "colorConverter = cv2.COLOR_BGR2RGB\n",
    "\n",
    "imgTest = cv2.imread(\"images\\\\brown.png\")\n",
    "imgTest = centerCrop(imgTest)\n",
    "imgTest = cv2.resize(imgTest, (imgSize, imgSize))\n",
    "imgTest = cv2.cvtColor(imgTest, colorConverter)\n",
    "\n",
    "#imgTest = X[13] * 255.0\n",
    "plt.imshow(imgTest)\n",
    "plt.show()\n",
    "imgTest = np.array(imgTest).reshape(1, imgSize, imgSize, 3)\n",
    "imgTest = imgTest/255.0\n",
    "\n",
    "label = [\"donut\", \"cap\", \"other\"]\n",
    "\n",
    "#print(model.predict(imgTest))\n",
    "label[np.argmax(model.predict(imgTest))]"
   ]
  },
  {
   "cell_type": "code",
   "execution_count": 30,
   "id": "ed2b93b5",
   "metadata": {
    "scrolled": false
   },
   "outputs": [
    {
     "data": {
      "image/png": "[encoded data removed]",
      "text/plain": [
       "<Figure size 640x480 with 1 Axes>"
      ]
     },
     "metadata": {},
     "output_type": "display_data"
    }
   ],
   "source": [
    "#callbacker.show_graph(\"val_acc\")\n",
    "\n",
    "for i in range(callbacker.modelIndex+1):\n",
    "    plt.plot(np.arange(1, len(callbacker.data[\"val_acc\"][i])+1), callbacker.data[\"val_acc\"][i], label=\"val_accuracy\")\n",
    "for i in range(callbacker.modelIndex+1):\n",
    "    plt.plot(np.arange(1, len(callbacker.data[\"acc\"][i])+1), callbacker.data[\"acc\"][i], label=\"train_accuracy\")\n",
    "plt.legend(loc='center left', bbox_to_anchor=(1, 0.5))\n",
    "plt.show()"
   ]
  },
  {
   "cell_type": "code",
   "execution_count": 29,
   "id": "3ffd6f59",
   "metadata": {},
   "outputs": [],
   "source": [
    "model.save(\"models/ThisOneIsOk6.h5\")"
   ]
  },
  {
   "cell_type": "code",
   "execution_count": null,
   "id": "efba17c5",
   "metadata": {},
   "outputs": [],
   "source": []
  }
 ],
 "metadata": {
  "kernelspec": {
   "display_name": "Python 3 (ipykernel)",
   "language": "python",
   "name": "python3"
  },
  "language_info": {
   "codemirror_mode": {
    "name": "ipython",
    "version": 3
   },
   "file_extension": ".py",
   "mimetype": "text/x-python",
   "name": "python",
   "nbconvert_exporter": "python",
   "pygments_lexer": "ipython3",
   "version": "3.7.16"
  }
 },
 "nbformat": 4,
 "nbformat_minor": 5
}
